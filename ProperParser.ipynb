{
 "cells": [
  {
   "cell_type": "code",
   "execution_count": 1,
   "metadata": {},
   "outputs": [],
   "source": [
    "from src.controller.HwpController import HwpController\n",
    "from collections import OrderedDict\n",
    "\n",
    "import re, uuid\n",
    "import numpy as np"
   ]
  },
  {
   "cell_type": "code",
   "execution_count": 2,
   "metadata": {},
   "outputs": [],
   "source": [
    "import re, uuid\n",
    "import numpy as np\n",
    "\n",
    "from src.service.ParseService import ParseService\n",
    "\n",
    "\n",
    "class ProperParser:\n",
    "    def delete_non_target_data(self, table_data):\n",
    "        \"\"\"\n",
    "        한글 표에서 원하지 않은 부분까지 나온 데이터를 정리하여 리스트로 반환합니다.\n",
    "        target_data_text에 표에 반복적으로 들어가는 텍스트를 입력하여 필요없는 데이터를 삭제합니다.\n",
    "        \"\"\"\n",
    "        target_data_text = ['일자', '계측위치', '진동레벨', '진동속도', '소음레벨']\n",
    "\n",
    "        target_data = [\n",
    "            sublist for sublist in table_data\n",
    "            if any(\n",
    "                entry['row'] in ['0', '1'] and any(keyword in entry['text'] for keyword in target_data_text)\n",
    "                for entry in sublist\n",
    "            )\n",
    "        ]\n",
    "\n",
    "        return target_data\n",
    "\n",
    "    def extract_columns(self, table_list):\n",
    "        \"\"\"\n",
    "        한글 표에서 공통적인 컬럼 부분을 추출합니다.\n",
    "        컬럼은 대부분 표의 시작 부분에 작성되기 때문에 row 값은 0 혹은 1에 위치하게 됩니다.\n",
    "        이후 컬럼 값들이 딕셔너리로 저장되어 있기 때문에 중복을 제거 후 리스트로 반환합니다.\n",
    "        \"\"\"\n",
    "        columns = []\n",
    "        for items in table_list:\n",
    "            for item in items:\n",
    "                if item not in [i for i in columns]:\n",
    "                    if int(item['row']) == 0 or int(item['row']) == 1:\n",
    "                        columns.append(item)\n",
    "\n",
    "        return columns\n",
    "    \n",
    "    def extract_non_column_data(self, table_list, columns):\n",
    "        \"\"\"\n",
    "        한글 표에서 컬럼 부분을 제거한 나머지 데이터들을 반환합니다.\n",
    "        \"\"\"\n",
    "        return [[item for item in items[len(columns):] if not int(item['colspan']) > 1]for items in table_list]\n",
    "    \n",
    "    def group_by_date(self, dict_list):\n",
    "        \"\"\"\n",
    "        한글 표 데이터를 날짜 별로 분류하여 리스트로 저장하여 반환합니다.\n",
    "        \"\"\"\n",
    "        group_list = []\n",
    "\n",
    "        for items in dict_list:\n",
    "            rows = list(set([int(item['row']) for item in items]))\n",
    "            for row in rows:\n",
    "                temp = [item for item in items if int(item['row'])==row]\n",
    "                group_list.append(temp)\n",
    "        \n",
    "        return group_list\n",
    "    \n",
    "    def update_merge_data(self, group_list):\n",
    "        \"\"\"\n",
    "        한글 표에 병합 처리된 셀에 대한 데이터 처리를 완료한 뒤 리스트로 반환합니다.\n",
    "        병합 처리된 셀은 rowspan 값을 이용하여 탐지한 뒤 해당 row값이 없는 리스트에 추가해 줍니다.\n",
    "        \"\"\"\n",
    "        cached_merge_data = []\n",
    "        cached_head_data = []\n",
    "        \n",
    "        for idx, items in enumerate(group_list):\n",
    "            head_data = [data for data in items if int(data['col']) == 0 and int(data['rowspan']) > 1]\n",
    "            merge_data = [data for data in items if int(data['col']) != 0 and int(data['rowspan']) > 1]\n",
    "            \n",
    "            if head_data:\n",
    "                cached_head_data = head_data\n",
    "            if merge_data:\n",
    "                cached_merge_data = merge_data\n",
    "\n",
    "            new_items = []\n",
    "            if any(data not in items for data in cached_head_data):\n",
    "                new_items.extend(cached_head_data)\n",
    "            if any(data not in items for data in cached_merge_data):\n",
    "                new_items.extend(cached_merge_data)\n",
    "\n",
    "            group_list[idx] = new_items + items\n",
    "        \n",
    "        return group_list\n",
    "    \n",
    "    def serialize_to_dict(self, group_list, columns):\n",
    "        \"\"\"\n",
    "        컬럼 리스트와 파싱이 끝난 그룹 리스트를 이용해서 데이터를 분류한 뒤 리스트로 반환합니다.\n",
    "        컬럼 리스트에 대응하는 값들을 그룹 리스트에서 찾아서 추가해주는 작업을 수행합니다.\n",
    "        \"\"\"\n",
    "        serialize_list = []\n",
    "\n",
    "        columns = [item for item in columns if int(item['colspan']) <= 1]\n",
    "        for items in group_list:\n",
    "            data = {column['text']: item['text'] for column, item in zip(columns, items) if column != '발파횟수'}\n",
    "            serialize_list.append(data)\n",
    "\n",
    "        return serialize_list\n"
   ]
  },
  {
   "cell_type": "code",
   "execution_count": 3,
   "metadata": {},
   "outputs": [],
   "source": [
    "service = ProperParser()\n",
    "controller = HwpController()\n",
    "path = '/Users/dobby/Desktop/Workspace/2월 계측보고서(호남고철5-2공구).hwp'"
   ]
  },
  {
   "cell_type": "code",
   "execution_count": null,
   "metadata": {},
   "outputs": [],
   "source": [
    "controller.get_table_list(path, '일자별 계측 현황')\n",
    "table_list = controller.get_list()\n",
    "table_list = service.delete_non_target_data(table_list)\n",
    "\n",
    "table_list"
   ]
  },
  {
   "cell_type": "code",
   "execution_count": null,
   "metadata": {},
   "outputs": [],
   "source": [
    "columns = service.extract_columns(table_list)\n",
    "\n",
    "for idx, i in enumerate(columns):\n",
    "    print(f'row: {i['row']}, rowspan: {i['rowspan']}, col: {i['col']}, colspan: {i['colspan']}, text: {i['text']}')\n",
    "    if int(i['row']) == 0 and int(i['rowspan']) > 1 and int(i['col']) == max([int(c['col']) for c in columns]):\n",
    "        columns.append(columns.pop(idx))\n",
    "\n",
    "columns"
   ]
  },
  {
   "cell_type": "code",
   "execution_count": null,
   "metadata": {},
   "outputs": [],
   "source": [
    "dict_list = service.extract_non_column_data(table_list, columns)\n",
    "\n",
    "dict_list"
   ]
  },
  {
   "cell_type": "code",
   "execution_count": null,
   "metadata": {},
   "outputs": [],
   "source": [
    "group_list = service.group_by_date(dict_list)\n",
    "\n",
    "group_list"
   ]
  },
  {
   "cell_type": "code",
   "execution_count": null,
   "metadata": {},
   "outputs": [],
   "source": [
    "group_list = service.update_merge_data(group_list)\n",
    "\n",
    "group_list"
   ]
  },
  {
   "cell_type": "code",
   "execution_count": null,
   "metadata": {},
   "outputs": [],
   "source": [
    "serialize_list = service.serialize_to_dict(group_list, columns)\n",
    "\n",
    "serialize_list"
   ]
  },
  {
   "cell_type": "code",
   "execution_count": 10,
   "metadata": {},
   "outputs": [
    {
     "name": "stdout",
     "output_type": "stream",
     "text": [
      "['강정1리마을회관' '강정2리마을회관' '감지안됨' '미굴발파' '지렁이농장' '성원축산' '무안공항진입도로' '태양광발전설비'\n",
      " '66.52' '65.98' '61.12' '67.72' '태양광진입도로' '미누네펜션' '청운로505-2']\n",
      "       일자 발파횟수     시간 진동속도(cm/s) 진동레벨(dB(V)) 소음레벨(dB(A))      계측위치\n",
      "0    2월1일   1회   7:04       감지안됨        감지안됨        감지안됨  강정1리마을회관\n",
      "2    2월1일   3회  20:18       감지안됨        감지안됨        감지안됨  강정1리마을회관\n",
      "3    2월2일   1회   7:01       감지안됨        감지안됨        감지안됨  강정1리마을회관\n",
      "4    2월2일   2회  13:10       감지안됨        감지안됨        감지안됨  강정1리마을회관\n",
      "6    2월3일   1회   7:01       감지안됨        감지안됨        감지안됨  강정1리마을회관\n",
      "7    2월3일   2회  12:55       감지안됨        감지안됨        감지안됨  강정1리마을회관\n",
      "8    2월3일   3회  18:28       감지안됨        감지안됨        감지안됨  강정1리마을회관\n",
      "13   2월6일   2회  13:13       감지안됨        감지안됨        감지안됨  강정1리마을회관\n",
      "14   2월6일   3회  19:35       감지안됨        감지안됨        감지안됨  강정1리마을회관\n",
      "16   2월7일   2회  13:25       감지안됨        감지안됨        감지안됨  강정1리마을회관\n",
      "17   2월7일   3회  19:25       감지안됨        감지안됨        감지안됨  강정1리마을회관\n",
      "19  2월13일   1회   7:24       감지안됨        감지안됨        감지안됨  강정1리마을회관\n",
      "20  2월13일   2회  14:52       감지안됨        감지안됨        감지안됨  강정1리마을회관\n",
      "21  2월13일   3회  19:20       감지안됨        감지안됨        감지안됨  강정1리마을회관\n",
      "23  2월14일   2회  13:51       감지안됨        감지안됨        감지안됨  강정1리마을회관\n",
      "24  2월14일   3회  19:49       감지안됨        감지안됨        감지안됨  강정1리마을회관\n",
      "25  2월15일   1회   7:01       감지안됨        감지안됨        감지안됨  강정1리마을회관\n",
      "26  2월15일   2회  13:40       감지안됨        감지안됨        감지안됨  강정1리마을회관\n",
      "27  2월15일   3회  19:48       감지안됨        감지안됨        감지안됨  강정1리마을회관\n",
      "28  2월16일   1회   7:03       감지안됨        감지안됨        감지안됨  강정1리마을회관\n",
      "29  2월16일   2회  15:27       감지안됨        감지안됨        감지안됨  강정1리마을회관\n",
      "31  2월17일   2회  13:58       감지안됨        감지안됨        감지안됨  강정1리마을회관\n",
      "32  2월17일   3회  19:28       감지안됨        감지안됨        감지안됨  강정1리마을회관\n",
      "47  2월23일   1회   7:02       감지안됨        감지안됨        감지안됨  강정1리마을회관\n",
      "49  2월24일   1회   7:03      0.136       64.91       54.52  강정1리마을회관\n",
      "52  2월26일   1회   8:38       감지안됨        감지안됨        감지안됨  강정1리마을회관\n",
      "53  2월26일   2회  17:55       감지안됨        감지안됨        감지안됨  강정1리마을회관\n"
     ]
    }
   ],
   "source": [
    "import pandas as pd\n",
    "\n",
    "# pandas DataFrame으로 변환\n",
    "df = pd.DataFrame(serialize_list)\n",
    "\n",
    "# 계측 위치별로 데이터 프레임 분류\n",
    "locations = df['계측위치'].unique()  # 계측 위치별 고유값을 찾음\n",
    "print(df['계측위치'].unique())\n",
    "\n",
    "# 각 위치별 데이터 프레임을 딕셔너리에 저장\n",
    "dfs = {}\n",
    "for location in locations:\n",
    "    dfs[location] = df[df['계측위치'] == location]\n",
    "\n",
    "# 결과 확인\n",
    "# 예시: 과천지식정보타운 위치의 데이터 프레임 출력\n",
    "print(dfs['강정1리마을회관'])"
   ]
  },
  {
   "cell_type": "code",
   "execution_count": null,
   "metadata": {},
   "outputs": [],
   "source": []
  }
 ],
 "metadata": {
  "kernelspec": {
   "display_name": "hwp-parser-test",
   "language": "python",
   "name": "python3"
  },
  "language_info": {
   "codemirror_mode": {
    "name": "ipython",
    "version": 3
   },
   "file_extension": ".py",
   "mimetype": "text/x-python",
   "name": "python",
   "nbconvert_exporter": "python",
   "pygments_lexer": "ipython3",
   "version": "3.12.2"
  }
 },
 "nbformat": 4,
 "nbformat_minor": 2
}
